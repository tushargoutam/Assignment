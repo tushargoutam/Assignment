{
 "cells": [
  {
   "cell_type": "markdown",
   "id": "82dbb1b7",
   "metadata": {},
   "source": [
    "# Q1.Who developed Python Programming language"
   ]
  },
  {
   "cell_type": "markdown",
   "id": "786b4980",
   "metadata": {},
   "source": [
    "Ans. Guido van Rossum"
   ]
  },
  {
   "cell_type": "markdown",
   "id": "0840c9e0",
   "metadata": {},
   "source": [
    "# Q2.Which type of programming does python support"
   ]
  },
  {
   "cell_type": "markdown",
   "id": "e0ae5976",
   "metadata": {},
   "source": [
    "Ans. Python Supports Procedural as well as Object Oriented Programming"
   ]
  },
  {
   "cell_type": "markdown",
   "id": "a07cc6c8",
   "metadata": {},
   "source": [
    "# Q3.Is Python case sensitive when dealing with identifiers."
   ]
  },
  {
   "cell_type": "markdown",
   "id": "abc6a8bd",
   "metadata": {},
   "source": [
    "Ans. Yes"
   ]
  },
  {
   "cell_type": "markdown",
   "id": "94106f1b",
   "metadata": {},
   "source": [
    "# Q4.what is the correct extension of the Python File."
   ]
  },
  {
   "cell_type": "markdown",
   "id": "0a96670a",
   "metadata": {},
   "source": [
    "Ans. '.py' is used for the extension of python files"
   ]
  },
  {
   "cell_type": "markdown",
   "id": "985f36f6",
   "metadata": {},
   "source": [
    "# Q5.Is python code compiled or interpreted. "
   ]
  },
  {
   "cell_type": "markdown",
   "id": "4eea920f",
   "metadata": {},
   "source": [
    "Ans. Python code is interpreted and then converted in byte code"
   ]
  },
  {
   "cell_type": "markdown",
   "id": "5d7e4c0f",
   "metadata": {},
   "source": [
    "# Q6.Name a few blocks of code used to define in python language."
   ]
  },
  {
   "cell_type": "markdown",
   "id": "b76a99d9",
   "metadata": {},
   "source": [
    "Ans.Function,Calss,Modules,etc."
   ]
  },
  {
   "cell_type": "markdown",
   "id": "4a57d5a1",
   "metadata": {},
   "source": [
    "# Q7.State a character used to give single line comments in python?"
   ]
  },
  {
   "cell_type": "markdown",
   "id": "73d04663",
   "metadata": {},
   "source": [
    "Ans. '#' is used for single line comment"
   ]
  },
  {
   "cell_type": "markdown",
   "id": "d858cf82",
   "metadata": {},
   "source": [
    "# Q8.Mention functions which can help use to find the version of python that we are currently working on."
   ]
  },
  {
   "cell_type": "markdown",
   "id": "559b3acf",
   "metadata": {},
   "source": [
    "import sys\n",
    "sys.version"
   ]
  },
  {
   "cell_type": "markdown",
   "id": "f70690a0",
   "metadata": {},
   "source": [
    "# Q9.Python supports the creation of anonymous functions at runtime, using a construct called_______"
   ]
  },
  {
   "cell_type": "markdown",
   "id": "d4a2e1aa",
   "metadata": {},
   "source": [
    "Ans.Lambda"
   ]
  },
  {
   "cell_type": "markdown",
   "id": "c4bcd2d3",
   "metadata": {},
   "source": [
    "# Q10.what does pip stands for python."
   ]
  },
  {
   "cell_type": "markdown",
   "id": "2d45f2e8",
   "metadata": {},
   "source": [
    "Ans.Preferred Installer Program"
   ]
  },
  {
   "cell_type": "markdown",
   "id": "648687e5",
   "metadata": {},
   "source": [
    "# Q11.Mention a few built-in functions in python."
   ]
  },
  {
   "cell_type": "markdown",
   "id": "2e5262db",
   "metadata": {},
   "source": [
    "Ans. print(),input(),sorted(),map(),filter(),etc."
   ]
  },
  {
   "cell_type": "markdown",
   "id": "de9b8a04",
   "metadata": {},
   "source": [
    "# Q12.what is the maximum possible length of an identifier in python."
   ]
  },
  {
   "cell_type": "markdown",
   "id": "f4721f5a",
   "metadata": {},
   "source": [
    "Ans.79 character"
   ]
  },
  {
   "cell_type": "markdown",
   "id": "8107bf2f",
   "metadata": {},
   "source": [
    "# Q13.what are the benifits of using python"
   ]
  },
  {
   "cell_type": "markdown",
   "id": "5088b66e",
   "metadata": {},
   "source": [
    "Ans.Benifits\n",
    "    -Object Oriented Programming\n",
    "    -User Friendly Syntax\n",
    "    -Uses Indentation for clearity\n",
    "    -Interpreter Based Language\n",
    "    -Have Large collection of libraries"
   ]
  },
  {
   "cell_type": "markdown",
   "id": "db4e9fca",
   "metadata": {},
   "source": [
    "# Q14.how is memory managed in python?"
   ]
  },
  {
   "cell_type": "markdown",
   "id": "52e912d7",
   "metadata": {},
   "source": [
    "Ans. Python Uses a method called garbage management which allows python to clear memory for those variable or occupied spaces that are no longer in use."
   ]
  },
  {
   "cell_type": "markdown",
   "id": "185d8502",
   "metadata": {},
   "source": [
    "# Q15.How to install python on windows and set path variable."
   ]
  },
  {
   "cell_type": "markdown",
   "id": "97101a42",
   "metadata": {},
   "source": [
    "Ans.Python can be downloaded and installed from in official website and from command prompt too.\n",
    "if installed from website the path variable gets set automatically.other wise follow\n",
    "Open control panned - click on Andvanced tab - then click on Environment Variables. Then Hilight the path and set."
   ]
  },
  {
   "cell_type": "markdown",
   "id": "a7c7e790",
   "metadata": {},
   "source": [
    "# Q16.Is indentation required in python?"
   ]
  },
  {
   "cell_type": "markdown",
   "id": "42b4bcc9",
   "metadata": {},
   "source": [
    "Ans. Indentation is key for syntax in python . It separates code from body of any definition of conditional statement.\n"
   ]
  },
  {
   "cell_type": "code",
   "execution_count": null,
   "id": "4747b052",
   "metadata": {},
   "outputs": [],
   "source": []
  }
 ],
 "metadata": {
  "kernelspec": {
   "display_name": "Python 3 (ipykernel)",
   "language": "python",
   "name": "python3"
  },
  "language_info": {
   "codemirror_mode": {
    "name": "ipython",
    "version": 3
   },
   "file_extension": ".py",
   "mimetype": "text/x-python",
   "name": "python",
   "nbconvert_exporter": "python",
   "pygments_lexer": "ipython3",
   "version": "3.9.7"
  }
 },
 "nbformat": 4,
 "nbformat_minor": 5
}
