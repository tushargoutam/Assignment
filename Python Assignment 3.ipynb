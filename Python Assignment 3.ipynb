{
 "cells": [
  {
   "cell_type": "markdown",
   "id": "8a06330d",
   "metadata": {},
   "source": [
    "# Q1.create a python program to sort the given list of tuples based on integer value using a lambda function."
   ]
  },
  {
   "cell_type": "code",
   "execution_count": 1,
   "id": "d38caefa",
   "metadata": {},
   "outputs": [],
   "source": [
    "lst = [('Sachin Tendulkar', 34357), ('Ricky Ponting', 27483), ('Jack Kallis', 25534), ('Virat Kohli', 24936)]"
   ]
  },
  {
   "cell_type": "code",
   "execution_count": 2,
   "id": "21c9cefb",
   "metadata": {},
   "outputs": [
    {
     "data": {
      "text/plain": [
       "[('Sachin Tendulkar', 34357),\n",
       " ('Ricky Ponting', 27483),\n",
       " ('Jack Kallis', 25534),\n",
       " ('Virat Kohli', 24936)]"
      ]
     },
     "execution_count": 2,
     "metadata": {},
     "output_type": "execute_result"
    }
   ],
   "source": [
    "lst"
   ]
  },
  {
   "cell_type": "code",
   "execution_count": 3,
   "id": "a88dfb79",
   "metadata": {},
   "outputs": [],
   "source": [
    "sort_lst = sorted(lst , key = lambda x:x[1])"
   ]
  },
  {
   "cell_type": "code",
   "execution_count": 4,
   "id": "e20723b3",
   "metadata": {},
   "outputs": [
    {
     "data": {
      "text/plain": [
       "[('Virat Kohli', 24936),\n",
       " ('Jack Kallis', 25534),\n",
       " ('Ricky Ponting', 27483),\n",
       " ('Sachin Tendulkar', 34357)]"
      ]
     },
     "execution_count": 4,
     "metadata": {},
     "output_type": "execute_result"
    }
   ],
   "source": [
    "sort_lst"
   ]
  },
  {
   "cell_type": "markdown",
   "id": "cefeec59",
   "metadata": {},
   "source": [
    "# Q2. write a python program to find the squares of all the numbers in the given list of integers using lambda and map functions."
   ]
  },
  {
   "cell_type": "code",
   "execution_count": 5,
   "id": "c9d7ad6c",
   "metadata": {},
   "outputs": [],
   "source": [
    "int_list = [1,2,3,4,5,6,7,8,9,10]"
   ]
  },
  {
   "cell_type": "code",
   "execution_count": 6,
   "id": "9b261d26",
   "metadata": {},
   "outputs": [],
   "source": [
    "sq_list = list(map(lambda x:x**2,int_list))"
   ]
  },
  {
   "cell_type": "code",
   "execution_count": 7,
   "id": "c09c94e2",
   "metadata": {},
   "outputs": [
    {
     "data": {
      "text/plain": [
       "[1, 4, 9, 16, 25, 36, 49, 64, 81, 100]"
      ]
     },
     "execution_count": 7,
     "metadata": {},
     "output_type": "execute_result"
    }
   ],
   "source": [
    "sq_list"
   ]
  },
  {
   "cell_type": "markdown",
   "id": "0247cb42",
   "metadata": {},
   "source": [
    "# Q3.write a python program to convert the given list of integers into a tuple of strings. use map and lambda functions."
   ]
  },
  {
   "cell_type": "code",
   "execution_count": 8,
   "id": "4ef20fa9",
   "metadata": {},
   "outputs": [],
   "source": [
    "lst_int = [1,2,3,4,5,6,7,8,9,10]\n",
    "\n",
    "str_tup = tuple(map(lambda x:str(x),lst_int))"
   ]
  },
  {
   "cell_type": "code",
   "execution_count": 9,
   "id": "f189f5d1",
   "metadata": {},
   "outputs": [
    {
     "data": {
      "text/plain": [
       "('1', '2', '3', '4', '5', '6', '7', '8', '9', '10')"
      ]
     },
     "execution_count": 9,
     "metadata": {},
     "output_type": "execute_result"
    }
   ],
   "source": [
    "str_tup"
   ]
  },
  {
   "cell_type": "markdown",
   "id": "a60321d0",
   "metadata": {},
   "source": [
    "# Q4.write a python program using reduce function to compute the product of a list containing numbers from 1 to 25."
   ]
  },
  {
   "cell_type": "code",
   "execution_count": 10,
   "id": "fc25dada",
   "metadata": {},
   "outputs": [],
   "source": [
    "l = [i for i in range(1,26)]"
   ]
  },
  {
   "cell_type": "code",
   "execution_count": 11,
   "id": "c668c5ae",
   "metadata": {},
   "outputs": [
    {
     "data": {
      "text/plain": [
       "[1,\n",
       " 2,\n",
       " 3,\n",
       " 4,\n",
       " 5,\n",
       " 6,\n",
       " 7,\n",
       " 8,\n",
       " 9,\n",
       " 10,\n",
       " 11,\n",
       " 12,\n",
       " 13,\n",
       " 14,\n",
       " 15,\n",
       " 16,\n",
       " 17,\n",
       " 18,\n",
       " 19,\n",
       " 20,\n",
       " 21,\n",
       " 22,\n",
       " 23,\n",
       " 24,\n",
       " 25]"
      ]
     },
     "execution_count": 11,
     "metadata": {},
     "output_type": "execute_result"
    }
   ],
   "source": [
    "l"
   ]
  },
  {
   "cell_type": "code",
   "execution_count": 12,
   "id": "98c5d0a6",
   "metadata": {},
   "outputs": [],
   "source": [
    "from functools import reduce"
   ]
  },
  {
   "cell_type": "code",
   "execution_count": 13,
   "id": "b51ad802",
   "metadata": {},
   "outputs": [
    {
     "data": {
      "text/plain": [
       "15511210043330985984000000"
      ]
     },
     "execution_count": 13,
     "metadata": {},
     "output_type": "execute_result"
    }
   ],
   "source": [
    "reduce(lambda x,y:x*y,l)"
   ]
  },
  {
   "cell_type": "markdown",
   "id": "1f171f6e",
   "metadata": {},
   "source": [
    "# Q.5 write a python program to filter the numbers in a gien list that are divisible by 2 and 3 using the filter function."
   ]
  },
  {
   "cell_type": "code",
   "execution_count": 15,
   "id": "1919e379",
   "metadata": {},
   "outputs": [],
   "source": [
    "ls = [2,3,6,9,27,60,90,120,55,46]"
   ]
  },
  {
   "cell_type": "code",
   "execution_count": 16,
   "id": "f065e720",
   "metadata": {},
   "outputs": [
    {
     "data": {
      "text/plain": [
       "[6, 60, 90, 120]"
      ]
     },
     "execution_count": 16,
     "metadata": {},
     "output_type": "execute_result"
    }
   ],
   "source": [
    "list(filter(lambda x:x%2==0 and x%3==0,ls))"
   ]
  },
  {
   "cell_type": "markdown",
   "id": "bb50c18d",
   "metadata": {},
   "source": [
    "# Q.6 write a python program to find palindromes in the given list of strigs using lambda and filter function"
   ]
  },
  {
   "cell_type": "code",
   "execution_count": 18,
   "id": "df9abc78",
   "metadata": {},
   "outputs": [],
   "source": [
    "lstr = ['python', 'php', 'aba', 'radar', 'level']"
   ]
  },
  {
   "cell_type": "code",
   "execution_count": 19,
   "id": "56c4aba8",
   "metadata": {},
   "outputs": [
    {
     "data": {
      "text/plain": [
       "['php', 'aba', 'radar', 'level']"
      ]
     },
     "execution_count": 19,
     "metadata": {},
     "output_type": "execute_result"
    }
   ],
   "source": [
    "list(filter(lambda x:x==x[::-1],lstr))"
   ]
  },
  {
   "cell_type": "code",
   "execution_count": null,
   "id": "990b5192",
   "metadata": {},
   "outputs": [],
   "source": []
  }
 ],
 "metadata": {
  "kernelspec": {
   "display_name": "Python 3 (ipykernel)",
   "language": "python",
   "name": "python3"
  },
  "language_info": {
   "codemirror_mode": {
    "name": "ipython",
    "version": 3
   },
   "file_extension": ".py",
   "mimetype": "text/x-python",
   "name": "python",
   "nbconvert_exporter": "python",
   "pygments_lexer": "ipython3",
   "version": "3.9.7"
  }
 },
 "nbformat": 4,
 "nbformat_minor": 5
}
