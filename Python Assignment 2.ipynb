{
 "cells": [
  {
   "cell_type": "markdown",
   "id": "b66f4d03",
   "metadata": {},
   "source": [
    "# Q1 which keyword is used to create a function? create a function to return a list of odd numbers in the range 1 to 25."
   ]
  },
  {
   "cell_type": "markdown",
   "id": "ea2a13eb",
   "metadata": {},
   "source": [
    "Syntax : def function_name(arguments):\n",
    "            function_body\n",
    "            \n",
    "'def' is the keyword that is used to create a function"
   ]
  },
  {
   "cell_type": "code",
   "execution_count": 1,
   "id": "240ed4b9",
   "metadata": {},
   "outputs": [],
   "source": [
    "def odd_num():\n",
    "    l = []\n",
    "    for num in range(1,25):\n",
    "        if num%2!=0:\n",
    "            l.append(num)\n",
    "    return l"
   ]
  },
  {
   "cell_type": "code",
   "execution_count": 2,
   "id": "145dcab4",
   "metadata": {},
   "outputs": [
    {
     "data": {
      "text/plain": [
       "[1, 3, 5, 7, 9, 11, 13, 15, 17, 19, 21, 23]"
      ]
     },
     "execution_count": 2,
     "metadata": {},
     "output_type": "execute_result"
    }
   ],
   "source": [
    "odd_num()"
   ]
  },
  {
   "cell_type": "markdown",
   "id": "f50047db",
   "metadata": {},
   "source": [
    "# Q2.Why * *args and * **kwargs is used in some functions? create a function each for *args and * *kwargs* to demonstrate their Use."
   ]
  },
  {
   "cell_type": "markdown",
   "id": "d41138b8",
   "metadata": {},
   "source": [
    "Ans. *args is passed as argument we we don't know how many of the input will be passed to a function.\n",
    "\n",
    "But it stores all the values in a tupple in the same sequence in which they are passed thus the name of tupple will be args and can be accessed through index one by one"
   ]
  },
  {
   "cell_type": "code",
   "execution_count": 3,
   "id": "17ca4d5c",
   "metadata": {},
   "outputs": [],
   "source": [
    "def natural(*args):\n",
    "    for i in range(len(args)):\n",
    "        print(f\"Input {i} : value {args[i]}\")"
   ]
  },
  {
   "cell_type": "code",
   "execution_count": 4,
   "id": "bb36a7a5",
   "metadata": {},
   "outputs": [
    {
     "name": "stdout",
     "output_type": "stream",
     "text": [
      "Input 0 : value 2\n",
      "Input 1 : value 3\n",
      "Input 2 : value 4\n",
      "Input 3 : value 1\n",
      "Input 4 : value 5\n",
      "Input 5 : value 6\n",
      "Input 6 : value 7\n"
     ]
    }
   ],
   "source": [
    "natural(2,3,4,1,5,6,7)"
   ]
  },
  {
   "cell_type": "code",
   "execution_count": 5,
   "id": "6ab71585",
   "metadata": {},
   "outputs": [
    {
     "name": "stdout",
     "output_type": "stream",
     "text": [
      "Input 0 : value 2\n",
      "Input 1 : value Tushar\n",
      "Input 2 : value Goutam\n",
      "Input 3 : value 65.55\n",
      "Input 4 : value [1, 2, 3]\n"
     ]
    }
   ],
   "source": [
    "natural(2,\"Tushar\",\"Goutam\",65.55,[1,2,3])"
   ]
  },
  {
   "cell_type": "markdown",
   "id": "f9d0b1e5",
   "metadata": {},
   "source": [
    "**kwargs is used in a situation where we don't know how many values are to be returned .\n",
    "It returns value in the form of a dictonary.\n",
    "Thus value are passed using assignment operator '='. which have key on left and value associated with that key on right."
   ]
  },
  {
   "cell_type": "code",
   "execution_count": 6,
   "id": "78929f51",
   "metadata": {},
   "outputs": [],
   "source": [
    "def test(**kwargs):\n",
    "    for key,val in kwargs.items():\n",
    "        print(f\"{key} : {val}\")"
   ]
  },
  {
   "cell_type": "code",
   "execution_count": 7,
   "id": "f0e220d8",
   "metadata": {},
   "outputs": [
    {
     "name": "stdout",
     "output_type": "stream",
     "text": [
      "a : 1\n",
      "b : 2\n",
      "c : 3\n",
      "d : 4\n"
     ]
    }
   ],
   "source": [
    "test(a=1,b=2,c=3,d=4)"
   ]
  },
  {
   "cell_type": "markdown",
   "id": "17e22a0c",
   "metadata": {},
   "source": [
    "# Q3 what is an iterator in python? Name the method used to initialize the iterator object and the medtod used for iteration.Use these methods to print the first five elements of the given list[2,4,6,8,10,12,14,16,18,20]."
   ]
  },
  {
   "cell_type": "markdown",
   "id": "1c921add",
   "metadata": {},
   "source": [
    "Ans. Iterators are those object which can give a range of values that are present in that given type .\n",
    "next value of iterators can be obtained next() function . we can use this function on any iterator until StopIteration Error is encountered.\n",
    "\n",
    "The method used to initialize iterator is iter()\n",
    "This method can change any iterable object into iterator.\n",
    "Ex:-\n",
    "s = iter(\"Tushar\")\n",
    "s.next()\n",
    "output:-\n",
    "'T'\n",
    "\n"
   ]
  },
  {
   "cell_type": "code",
   "execution_count": 8,
   "id": "03a8c2b1",
   "metadata": {},
   "outputs": [],
   "source": [
    "l = iter([2,4,6,8,10,12,14,16,18,20])"
   ]
  },
  {
   "cell_type": "code",
   "execution_count": 9,
   "id": "af8bfaee",
   "metadata": {},
   "outputs": [
    {
     "data": {
      "text/plain": [
       "2"
      ]
     },
     "execution_count": 9,
     "metadata": {},
     "output_type": "execute_result"
    }
   ],
   "source": [
    "next(l)"
   ]
  },
  {
   "cell_type": "code",
   "execution_count": 10,
   "id": "7a5659a0",
   "metadata": {},
   "outputs": [
    {
     "data": {
      "text/plain": [
       "4"
      ]
     },
     "execution_count": 10,
     "metadata": {},
     "output_type": "execute_result"
    }
   ],
   "source": [
    "next(l)"
   ]
  },
  {
   "cell_type": "code",
   "execution_count": 11,
   "id": "983de9d5",
   "metadata": {},
   "outputs": [
    {
     "data": {
      "text/plain": [
       "6"
      ]
     },
     "execution_count": 11,
     "metadata": {},
     "output_type": "execute_result"
    }
   ],
   "source": [
    "next(l)"
   ]
  },
  {
   "cell_type": "code",
   "execution_count": 12,
   "id": "8f879f28",
   "metadata": {},
   "outputs": [
    {
     "data": {
      "text/plain": [
       "8"
      ]
     },
     "execution_count": 12,
     "metadata": {},
     "output_type": "execute_result"
    }
   ],
   "source": [
    "next(l)"
   ]
  },
  {
   "cell_type": "code",
   "execution_count": 13,
   "id": "7a388c21",
   "metadata": {},
   "outputs": [
    {
     "data": {
      "text/plain": [
       "10"
      ]
     },
     "execution_count": 13,
     "metadata": {},
     "output_type": "execute_result"
    }
   ],
   "source": [
    "next(l)"
   ]
  },
  {
   "cell_type": "code",
   "execution_count": 14,
   "id": "992eb51f",
   "metadata": {},
   "outputs": [],
   "source": [
    "l1 = iter([2,4,6,8,10,12,14,16,18,20])\n"
   ]
  },
  {
   "cell_type": "code",
   "execution_count": 15,
   "id": "13b32d99",
   "metadata": {},
   "outputs": [
    {
     "name": "stdout",
     "output_type": "stream",
     "text": [
      "2\n",
      "4\n",
      "6\n",
      "8\n",
      "10\n"
     ]
    }
   ],
   "source": [
    "for i in range(0,5):\n",
    "    print(next(l1))"
   ]
  },
  {
   "cell_type": "markdown",
   "id": "91b9dae3",
   "metadata": {},
   "source": [
    "# Q4.What is a generator function in python? why yield keyword is used ? give an example of a generator function."
   ]
  },
  {
   "cell_type": "markdown",
   "id": "f3d5e746",
   "metadata": {},
   "source": [
    "Ans.Generator Function are function that can generate a Series of values. These values are generated using yield keyword.\n",
    "yield keyword is used to return the current value and keep on running the program for next value without terminating the whole thing.\n"
   ]
  },
  {
   "cell_type": "code",
   "execution_count": 16,
   "id": "862693dc",
   "metadata": {},
   "outputs": [],
   "source": [
    "def gen(n):\n",
    "    cur = 1\n",
    "    while cur<n:\n",
    "        yield cur\n",
    "        cur += 1"
   ]
  },
  {
   "cell_type": "code",
   "execution_count": 17,
   "id": "989c6ad7",
   "metadata": {},
   "outputs": [
    {
     "name": "stdout",
     "output_type": "stream",
     "text": [
      "1\n",
      "2\n",
      "3\n",
      "4\n",
      "5\n",
      "6\n",
      "7\n",
      "8\n",
      "9\n",
      "10\n",
      "11\n",
      "12\n",
      "13\n",
      "14\n"
     ]
    }
   ],
   "source": [
    "for i in gen(15):\n",
    "    print(i)"
   ]
  },
  {
   "cell_type": "markdown",
   "id": "88f938b1",
   "metadata": {},
   "source": [
    "# Q5.Create a generator function for prime Number less than 1000.Use the next method to print the first 20 prime Number."
   ]
  },
  {
   "cell_type": "code",
   "execution_count": 18,
   "id": "efa18fbf",
   "metadata": {},
   "outputs": [],
   "source": [
    "def prime_number_generator():\n",
    "    # using sieve of eratosthenes\n",
    "    bl = [True]*1000\n",
    "    bl[0] = bl[1] = False\n",
    "    i = 2\n",
    "    while i*i<1000:\n",
    "        for j in range(i*2,1000,i):\n",
    "            bl[j] = False\n",
    "        i+=1    \n",
    "        \n",
    "    for ind in range(0,1000):\n",
    "        if bl[ind]==True:\n",
    "            yield ind"
   ]
  },
  {
   "cell_type": "code",
   "execution_count": 19,
   "id": "979362ab",
   "metadata": {},
   "outputs": [],
   "source": [
    "a = prime_number_generator()"
   ]
  },
  {
   "cell_type": "code",
   "execution_count": 20,
   "id": "39484196",
   "metadata": {},
   "outputs": [],
   "source": [
    "ele = iter(list(a))"
   ]
  },
  {
   "cell_type": "code",
   "execution_count": 21,
   "id": "199d2248",
   "metadata": {},
   "outputs": [
    {
     "name": "stdout",
     "output_type": "stream",
     "text": [
      "2\n",
      "3\n",
      "5\n",
      "7\n",
      "11\n",
      "13\n",
      "17\n",
      "19\n",
      "23\n",
      "29\n",
      "31\n",
      "37\n",
      "41\n",
      "43\n",
      "47\n",
      "53\n",
      "59\n",
      "61\n",
      "67\n",
      "71\n"
     ]
    }
   ],
   "source": [
    "for i in range(0,20):\n",
    "    print(next(ele))"
   ]
  },
  {
   "cell_type": "markdown",
   "id": "2c4487ee",
   "metadata": {},
   "source": [
    "# Q6.write a python program to print the first 10 fibonacci numbers using a while loop."
   ]
  },
  {
   "cell_type": "code",
   "execution_count": 22,
   "id": "03f404d9",
   "metadata": {},
   "outputs": [],
   "source": [
    "def fibonacci():\n",
    "    first = 0\n",
    "    second = 1\n",
    "    num = 8\n",
    "    print(first)\n",
    "    print(second)\n",
    "    while num>0:\n",
    "        second , first = second + first, second\n",
    "        print(second)\n",
    "        num -= 1\n",
    "    "
   ]
  },
  {
   "cell_type": "code",
   "execution_count": 23,
   "id": "7ba67862",
   "metadata": {},
   "outputs": [
    {
     "name": "stdout",
     "output_type": "stream",
     "text": [
      "0\n",
      "1\n",
      "1\n",
      "2\n",
      "3\n",
      "5\n",
      "8\n",
      "13\n",
      "21\n",
      "34\n"
     ]
    }
   ],
   "source": [
    "fibonacci()"
   ]
  },
  {
   "cell_type": "markdown",
   "id": "99cf844d",
   "metadata": {},
   "source": [
    "# Q7.write a List comprehension to iterate through the given string : 'pwskills'."
   ]
  },
  {
   "cell_type": "code",
   "execution_count": 24,
   "id": "5d081d31",
   "metadata": {},
   "outputs": [],
   "source": [
    "s = 'pwskills'\n",
    "character = [char for char in s ]"
   ]
  },
  {
   "cell_type": "code",
   "execution_count": 25,
   "id": "49812d16",
   "metadata": {},
   "outputs": [
    {
     "data": {
      "text/plain": [
       "['p', 'w', 's', 'k', 'i', 'l', 'l', 's']"
      ]
     },
     "execution_count": 25,
     "metadata": {},
     "output_type": "execute_result"
    }
   ],
   "source": [
    "character"
   ]
  },
  {
   "cell_type": "markdown",
   "id": "3e44535d",
   "metadata": {},
   "source": [
    "# Q8.write a python program to check whether a given number is Palindrome or not using a while loop."
   ]
  },
  {
   "cell_type": "code",
   "execution_count": 26,
   "id": "301c02e0",
   "metadata": {},
   "outputs": [],
   "source": [
    "\n",
    "def is_palindrome(nm):\n",
    "    cp_nm = nm\n",
    "    rem = 0\n",
    "    reverse = 0\n",
    "    while cp_nm>0:\n",
    "        rem = cp_nm%10\n",
    "        reverse = (reverse*10)+rem\n",
    "        cp_nm = int(cp_nm / 10)\n",
    "    return reverse == nm"
   ]
  },
  {
   "cell_type": "code",
   "execution_count": 27,
   "id": "7f2e37a1",
   "metadata": {},
   "outputs": [
    {
     "name": "stdout",
     "output_type": "stream",
     "text": [
      "Enter the number to check if it's palindrome : 124\n"
     ]
    },
    {
     "data": {
      "text/plain": [
       "False"
      ]
     },
     "execution_count": 27,
     "metadata": {},
     "output_type": "execute_result"
    }
   ],
   "source": [
    "num = int(input(\"Enter the number to check if it's palindrome : \"))\n",
    "is_palindrome(num)"
   ]
  },
  {
   "cell_type": "code",
   "execution_count": 28,
   "id": "4d2b08f2",
   "metadata": {},
   "outputs": [
    {
     "data": {
      "text/plain": [
       "True"
      ]
     },
     "execution_count": 28,
     "metadata": {},
     "output_type": "execute_result"
    }
   ],
   "source": [
    "is_palindrome(121)"
   ]
  },
  {
   "cell_type": "code",
   "execution_count": 29,
   "id": "ac22c1ca",
   "metadata": {},
   "outputs": [
    {
     "data": {
      "text/plain": [
       "False"
      ]
     },
     "execution_count": 29,
     "metadata": {},
     "output_type": "execute_result"
    }
   ],
   "source": [
    "is_palindrome(155)"
   ]
  },
  {
   "cell_type": "code",
   "execution_count": 30,
   "id": "59b732e9",
   "metadata": {},
   "outputs": [
    {
     "data": {
      "text/plain": [
       "True"
      ]
     },
     "execution_count": 30,
     "metadata": {},
     "output_type": "execute_result"
    }
   ],
   "source": [
    "is_palindrome(1234321)"
   ]
  },
  {
   "cell_type": "markdown",
   "id": "d8079401",
   "metadata": {},
   "source": [
    "# Q9. write a code to print odd number from 1 to 100 using list comprehension."
   ]
  },
  {
   "cell_type": "code",
   "execution_count": 31,
   "id": "613eed63",
   "metadata": {},
   "outputs": [
    {
     "name": "stdout",
     "output_type": "stream",
     "text": [
      "[1, 3, 5, 7, 9, 11, 13, 15, 17, 19, 21, 23, 25, 27, 29, 31, 33, 35, 37, 39, 41, 43, 45, 47, 49, 51, 53, 55, 57, 59, 61, 63, 65, 67, 69, 71, 73, 75, 77, 79, 81, 83, 85, 87, 89, 91, 93, 95, 97, 99]\n"
     ]
    }
   ],
   "source": [
    "master_list = [num for num in range(1,100)]\n",
    "odd_list = [odd_num for odd_num in master_list if odd_num%2!=0]\n",
    "print(odd_list)"
   ]
  },
  {
   "cell_type": "code",
   "execution_count": null,
   "id": "2e059c71",
   "metadata": {},
   "outputs": [],
   "source": []
  }
 ],
 "metadata": {
  "kernelspec": {
   "display_name": "Python 3 (ipykernel)",
   "language": "python",
   "name": "python3"
  },
  "language_info": {
   "codemirror_mode": {
    "name": "ipython",
    "version": 3
   },
   "file_extension": ".py",
   "mimetype": "text/x-python",
   "name": "python",
   "nbconvert_exporter": "python",
   "pygments_lexer": "ipython3",
   "version": "3.9.7"
  }
 },
 "nbformat": 4,
 "nbformat_minor": 5
}
