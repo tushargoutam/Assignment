{
 "cells": [
  {
   "cell_type": "markdown",
   "id": "53aa86b5",
   "metadata": {},
   "source": [
    "## Q1.  Explain with Example when to use a for loop and a while loop"
   ]
  },
  {
   "cell_type": "markdown",
   "id": "14db18ec",
   "metadata": {},
   "source": [
    "### Ans. We use for loop in the situation where we know exactly how many iteration are necessary to complete the task.    \n",
    " ### And while loop is used when there is ambiguity in the number of iteration needed to complete a task"
   ]
  },
  {
   "cell_type": "code",
   "execution_count": 1,
   "id": "c27faf73",
   "metadata": {},
   "outputs": [
    {
     "name": "stdout",
     "output_type": "stream",
     "text": [
      "p\n",
      "w\n",
      "s\n",
      "k\n",
      "i\n",
      "l\n",
      "l\n",
      "s\n"
     ]
    }
   ],
   "source": [
    "# Example For loop\n",
    "# print a predefined string character by character\n",
    "s = \"pwskills\" \n",
    "\n",
    "# here iteration can be found using len(s) \n",
    "\n",
    "for i in range(0,len(s)):\n",
    "    print(s[i])\n",
    "    \n",
    "    "
   ]
  },
  {
   "cell_type": "code",
   "execution_count": 4,
   "id": "b02667e9",
   "metadata": {},
   "outputs": [
    {
     "name": "stdout",
     "output_type": "stream",
     "text": [
      "If You want to conitnue Enter 1 and to break any other key : 1\n",
      "Enter Your Name : Tushar\n",
      "welcome Tushar :)\n",
      "If You want to conitnue Enter 1 and to break any other key : 2\n"
     ]
    }
   ],
   "source": [
    "# Example for while loop\n",
    "\n",
    "while True:\n",
    "    co = int(input(\"If You want to conitnue Enter 1 and to break any other number : \"))\n",
    "    if co==1:\n",
    "        n = input(\"Enter Your Name : \")\n",
    "        print(f\"welcome {n} :)\")\n",
    "    else:\n",
    "        break\n",
    "    "
   ]
  },
  {
   "cell_type": "markdown",
   "id": "24501063",
   "metadata": {},
   "source": [
    "\"\"\"\n",
    "In above example as the user get's to decide whether to continue \n",
    "or not it's impossible to know before hand how many iteration are necessary\n",
    "\n",
    "\"\"\""
   ]
  },
  {
   "cell_type": "markdown",
   "id": "98f0b8cb",
   "metadata": {},
   "source": [
    "# Q2.Write a python program to print the sum and product of first 10 natural numbers using for and while loop."
   ]
  },
  {
   "cell_type": "code",
   "execution_count": 9,
   "id": "c4626ac5",
   "metadata": {},
   "outputs": [
    {
     "name": "stdout",
     "output_type": "stream",
     "text": [
      "Sum : 55\n",
      "Product : 3628800\n"
     ]
    }
   ],
   "source": [
    "# Using For Loop\n",
    "\n",
    "sm = 0 \n",
    "prd = 1\n",
    "\n",
    "for i in range(1,11):\n",
    "    sm += i\n",
    "    prd *= i\n",
    "\n",
    "print(f\"Sum : {sm}\")\n",
    "print(f\"Product : {prd}\")"
   ]
  },
  {
   "cell_type": "code",
   "execution_count": 11,
   "id": "f62dd36d",
   "metadata": {},
   "outputs": [
    {
     "name": "stdout",
     "output_type": "stream",
     "text": [
      "Sum : 55\n",
      "Product : 3628800\n"
     ]
    }
   ],
   "source": [
    "# Using For Loop\n",
    "\n",
    "num = 1\n",
    "sm = 0\n",
    "prd = 1\n",
    "\n",
    "while num<= 10:\n",
    "    sm += num\n",
    "    prd *= num\n",
    "    num += 1\n",
    "\n",
    "print(f\"Sum : {sm}\")\n",
    "print(f\"Product : {prd}\")"
   ]
  },
  {
   "cell_type": "markdown",
   "id": "236b733c",
   "metadata": {},
   "source": [
    "# Q3.Create a python program to compute the electricity bill for a household. The per-unit charges in rupees are as follows: For the first 100 units  the user will be charged Rs. 4.5 per unit ,for next 100 units. the user will be charged Rs. 6 per unit , and for next 100 units, the user will be charged Rs.10 per unit , After 300 Unit and above the user will be charged Rs.20 per unit"
   ]
  },
  {
   "cell_type": "code",
   "execution_count": 17,
   "id": "919d5069",
   "metadata": {},
   "outputs": [
    {
     "name": "stdout",
     "output_type": "stream",
     "text": [
      "Enter the Units : 310\n",
      "2250.0\n"
     ]
    }
   ],
   "source": [
    "# Ans\n",
    "\n",
    "units = int(input(\"Enter the Units : \"))\n",
    "amount = 0\n",
    "\n",
    "if units<=100:\n",
    "    amount = units*4.5\n",
    "elif units>100 and units<=200:\n",
    "    amount = 100*4.5\n",
    "    amount += (units-100)*6\n",
    "elif units>200 and units<=300:\n",
    "    amount = (100*4.5) + (100*6)\n",
    "    amount += (units-200)*10\n",
    "elif units>300:\n",
    "    amount = (100*4.5) + (100*6) + (100*10)\n",
    "    amount += (units-300)*20\n",
    "    \n",
    "print(amount)"
   ]
  },
  {
   "cell_type": "markdown",
   "id": "695ad878",
   "metadata": {},
   "source": [
    "# Q4.Create a list of numbers from 1 to 100. use for and while loop to calculate the cube of each number and if the cue of that number is divisible by 4 or 5 then append that number in a list and print that list."
   ]
  },
  {
   "cell_type": "code",
   "execution_count": 19,
   "id": "5972799d",
   "metadata": {},
   "outputs": [
    {
     "data": {
      "text/plain": [
       "[2,\n",
       " 4,\n",
       " 5,\n",
       " 6,\n",
       " 8,\n",
       " 10,\n",
       " 12,\n",
       " 14,\n",
       " 15,\n",
       " 16,\n",
       " 18,\n",
       " 20,\n",
       " 22,\n",
       " 24,\n",
       " 25,\n",
       " 26,\n",
       " 28,\n",
       " 30,\n",
       " 32,\n",
       " 34,\n",
       " 35,\n",
       " 36,\n",
       " 38,\n",
       " 40,\n",
       " 42,\n",
       " 44,\n",
       " 45,\n",
       " 46,\n",
       " 48,\n",
       " 50,\n",
       " 52,\n",
       " 54,\n",
       " 55,\n",
       " 56,\n",
       " 58,\n",
       " 60,\n",
       " 62,\n",
       " 64,\n",
       " 65,\n",
       " 66,\n",
       " 68,\n",
       " 70,\n",
       " 72,\n",
       " 74,\n",
       " 75,\n",
       " 76,\n",
       " 78,\n",
       " 80,\n",
       " 82,\n",
       " 84,\n",
       " 85,\n",
       " 86,\n",
       " 88,\n",
       " 90,\n",
       " 92,\n",
       " 94,\n",
       " 95,\n",
       " 96,\n",
       " 98,\n",
       " 100]"
      ]
     },
     "execution_count": 19,
     "metadata": {},
     "output_type": "execute_result"
    }
   ],
   "source": [
    "# Using for loop\n",
    "\n",
    "result = []\n",
    "\n",
    "for num in range(1,101):\n",
    "    if (num**3)%4==0 or (num**3)%5==0:\n",
    "        result.append(num)\n",
    "        \n",
    "result"
   ]
  },
  {
   "cell_type": "markdown",
   "id": "5e1dacdc",
   "metadata": {},
   "source": [
    "# Q5.write a program to filter count vowels in te below-given string. string = \"I want to becom a data scientist\""
   ]
  },
  {
   "cell_type": "code",
   "execution_count": 22,
   "id": "dde34868",
   "metadata": {},
   "outputs": [
    {
     "name": "stdout",
     "output_type": "stream",
     "text": [
      "12\n"
     ]
    }
   ],
   "source": [
    "l = ['a','e','i','o','u','A','E','I','O','U']\n",
    "\n",
    "string = \"I want to become a data scientist\"\n",
    "string\n",
    "count = 0 \n",
    "for character in string:\n",
    "    if character in l:\n",
    "        count += 1\n",
    "    \n",
    "print(count)"
   ]
  },
  {
   "cell_type": "code",
   "execution_count": null,
   "id": "caaa8ca7",
   "metadata": {},
   "outputs": [],
   "source": []
  },
  {
   "cell_type": "code",
   "execution_count": null,
   "id": "af29dd83",
   "metadata": {},
   "outputs": [],
   "source": []
  }
 ],
 "metadata": {
  "kernelspec": {
   "display_name": "Python 3 (ipykernel)",
   "language": "python",
   "name": "python3"
  },
  "language_info": {
   "codemirror_mode": {
    "name": "ipython",
    "version": 3
   },
   "file_extension": ".py",
   "mimetype": "text/x-python",
   "name": "python",
   "nbconvert_exporter": "python",
   "pygments_lexer": "ipython3",
   "version": "3.9.7"
  }
 },
 "nbformat": 4,
 "nbformat_minor": 5
}
